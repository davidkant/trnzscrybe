{
 "metadata": {
  "name": "",
  "signature": "sha256:a77764b294b4a53120548ce1c610ec249e0922daf1be21b7ea8c009dc61f5253"
 },
 "nbformat": 3,
 "nbformat_minor": 0,
 "worksheets": [
  {
   "cells": [
    {
     "cell_type": "code",
     "collapsed": false,
     "input": [
      "import trnzscrybe as xscribe\n",
      "%load_ext abjad.ext.ipython\n",
      "import abjad as abj\n",
      "%matplotlib inline\n",
      "import random"
     ],
     "language": "python",
     "metadata": {},
     "outputs": [],
     "prompt_number": 1
    },
    {
     "cell_type": "code",
     "collapsed": false,
     "input": [
      "\"\"\"just a bunch of quarter notes\"\"\"\n",
      "\n",
      "notes = []\n",
      "notes += xscribe.make_note(0.00, 60, 1.00)\n",
      "notes += xscribe.make_note(1.00, 62, 1.00)\n",
      "notes += xscribe.make_note(2.00, 64, 1.00)\n",
      "notes += xscribe.make_note(3.00, 65, 1.00)\n",
      "notes += xscribe.make_note(4.00, 67, 1.00)\n",
      "notes += xscribe.make_note(5.00, 69, 1.00)\n",
      "notes += xscribe.make_note(6.00, 71, 1.00)\n",
      "notes += xscribe.make_note(7.00, 72, 1.00)\n",
      "\n",
      "staff = xscribe.transcribe(notes, time_signatures=[(4,4)])\n",
      "xscribe.show(staff)\n",
      "xscribe.plot(notes, pitch_range=(58,74), figsize=(10,3))"
     ],
     "language": "python",
     "metadata": {},
     "outputs": [
      {
       "metadata": {},
       "output_type": "display_data",
       "png": "[encoded data removed]"
      },
      {
       "metadata": {},
       "output_type": "display_data",
       "png": "[encoded data removed]",
       "text": [
        "<matplotlib.figure.Figure at 0x103f11a50>"
       ]
      }
     ],
     "prompt_number": 2
    },
    {
     "cell_type": "code",
     "collapsed": false,
     "input": [
      "\"\"\"not just quarter notes\"\"\"\n",
      "\n",
      "notes = []\n",
      "notes += xscribe.make_note(0.00, 60, 1.00)\n",
      "notes += xscribe.make_note(1.00, 62, 0.50)\n",
      "notes += xscribe.make_note(1.50, 64, 0.50)\n",
      "notes += xscribe.make_note(2.00, 65, 0.25)\n",
      "notes += xscribe.make_note(2.25, 60, 0.25)\n",
      "notes += xscribe.make_note(2.50, 62, 0.25)\n",
      "notes += xscribe.make_note(2.75, 64, 0.25)\n",
      "notes += xscribe.make_note(3.00, 65, 1.00)\n",
      "notes += xscribe.make_note(4.00, 70, 2.00)\n",
      "\n",
      "staff = xscribe.transcribe(notes)\n",
      "xscribe.show(staff)\n",
      "xscribe.plot(notes, pitch_range=(58,74), figsize=(10,3))"
     ],
     "language": "python",
     "metadata": {},
     "outputs": [
      {
       "metadata": {},
       "output_type": "display_data",
       "png": "[encoded data removed]"
      },
      {
       "metadata": {},
       "output_type": "display_data",
       "png": "[encoded data removed]",
       "text": [
        "<matplotlib.figure.Figure at 0x1046db650>"
       ]
      }
     ],
     "prompt_number": 6
    },
    {
     "cell_type": "code",
     "collapsed": false,
     "input": [
      "\"\"\"let's make the rhythm a bit more complex\"\"\"\n",
      "\n",
      "random.seed(1)\n",
      "\n",
      "notes = []\n",
      "note_durs = [1.0/4, 1.0/2, 1.0/1, 1.0/0.5]\n",
      "curr_time = 0\n",
      "total_time = 8.0\n",
      "\n",
      "while curr_time < total_time:\n",
      "\n",
      "    note_dur = note_durs[random.randint(0, len(note_durs)-1)]\n",
      "    \n",
      "    if random.randint(0,1) == 0:\n",
      "        note_pitch = random.randint(58,72)\n",
      "        notes += xscribe.make_note(curr_time, note_pitch, note_dur)\n",
      "        curr_time += note_dur\n",
      "        \n",
      "    else:\n",
      "        curr_time += note_dur\n",
      "\n",
      "staff = xscribe.transcribe(notes)\n",
      "xscribe.show(staff)\n",
      "xscribe.plot(notes, pitch_range=(56,74), figsize=(10,3))"
     ],
     "language": "python",
     "metadata": {},
     "outputs": [
      {
       "metadata": {},
       "output_type": "display_data",
       "png": "[encoded data removed]"
      },
      {
       "metadata": {},
       "output_type": "display_data",
       "png": "[encoded data removed]",
       "text": [
        "<matplotlib.figure.Figure at 0x10786df50>"
       ]
      }
     ],
     "prompt_number": 12
    },
    {
     "cell_type": "code",
     "collapsed": false,
     "input": [
      "\"\"\"i assume you can do tuplets, too. all kinds yes?\"\"\"\n",
      "\n",
      "notes = []\n",
      "\n",
      "notes += xscribe.make_note(0.0/3, 60, 1.0/3)\n",
      "notes += xscribe.make_note(1.0/3, 62, 1.0/3)\n",
      "notes += xscribe.make_note(2.0/3, 64, 1.0/3)\n",
      "\n",
      "notes += xscribe.make_note(1 + 0.0/5, 60, 1.0/5)\n",
      "notes += xscribe.make_note(1 + 1.0/5, 62, 1.0/5)\n",
      "notes += xscribe.make_note(1 + 2.0/5, 64, 1.0/5)\n",
      "notes += xscribe.make_note(1 + 3.0/5, 65, 1.0/5)\n",
      "notes += xscribe.make_note(1 + 4.0/5, 67, 1.0/5)\n",
      "\n",
      "notes += xscribe.make_note(2 + 0.0/6, 60, 1.0/6)\n",
      "notes += xscribe.make_note(2 + 1.0/6, 62, 1.0/6)\n",
      "notes += xscribe.make_note(2 + 2.0/6, 64, 1.0/6)\n",
      "notes += xscribe.make_note(2 + 3.0/6, 65, 1.0/6)\n",
      "notes += xscribe.make_note(2 + 4.0/6, 67, 1.0/6)\n",
      "notes += xscribe.make_note(2 + 5.0/6, 69, 1.0/6)\n",
      "\n",
      "notes += xscribe.make_note(3 + 0.0/7, 60, 1.0/7)\n",
      "notes += xscribe.make_note(3 + 1.0/7, 62, 1.0/7)\n",
      "notes += xscribe.make_note(3 + 2.0/7, 64, 1.0/7)\n",
      "notes += xscribe.make_note(3 + 3.0/7, 65, 1.0/7)\n",
      "notes += xscribe.make_note(3 + 4.0/7, 67, 1.0/7)\n",
      "notes += xscribe.make_note(3 + 5.0/7, 69, 1.0/7)\n",
      "notes += xscribe.make_note(3 + 6.0/7, 71, 1.0/7)\n",
      "\n",
      "staff = xscribe.transcribe(notes)\n",
      "xscribe.show(staff)\n",
      "xscribe.plot(notes, pitch_range=(58,74), figsize=(10,3))"
     ],
     "language": "python",
     "metadata": {},
     "outputs": [
      {
       "metadata": {},
       "output_type": "display_data",
       "png": "[encoded data removed]"
      },
      {
       "metadata": {},
       "output_type": "display_data",
       "png": "[encoded data removed]",
       "text": [
        "<matplotlib.figure.Figure at 0x107db4190>"
       ]
      }
     ],
     "prompt_number": 32
    },
    {
     "cell_type": "code",
     "collapsed": false,
     "input": [
      "\"\"\"this thing can handle ties right?\"\"\"\n",
      "\n",
      "notes = []\n",
      "notes += xscribe.make_note(0.00, 69, 1.00)\n",
      "notes += xscribe.make_note(1.00, 63, 1.00)\n",
      "notes += xscribe.make_note(2.00, 64, 1.00)\n",
      "notes += xscribe.make_note(3.00, 66, 2.00)\n",
      "notes += xscribe.make_note(5.00, 67, 1.00)\n",
      "notes += xscribe.make_note(6.00, 69, 1.00)\n",
      "notes += xscribe.make_note(7.00, 73, 3.00)\n",
      "notes += xscribe.make_note(10.00, 72, 1.00)\n",
      "\n",
      "staff = xscribe.transcribe(notes)\n",
      "xscribe.show(staff)\n",
      "xscribe.plot(notes, pitch_range=(58,74), figsize=(10,3))"
     ],
     "language": "python",
     "metadata": {},
     "outputs": [
      {
       "metadata": {},
       "output_type": "display_data",
       "png": "[encoded data removed]"
      },
      {
       "metadata": {},
       "output_type": "display_data",
       "png": "[encoded data removed]",
       "text": [
        "<matplotlib.figure.Figure at 0x108e28290>"
       ]
      }
     ],
     "prompt_number": 17
    },
    {
     "cell_type": "code",
     "collapsed": false,
     "input": [
      "\"\"\"how about two notes at once\"\"\"\n",
      "\n",
      "notes = []\n",
      "notes += xscribe.make_note(0.00, 63, 1.00)\n",
      "notes += xscribe.make_note(0.00, 67, 1.00)\n",
      "notes += xscribe.make_note(1.00, 62, 1.00)\n",
      "notes += xscribe.make_note(1.00, 70, 1.00)\n",
      "notes += xscribe.make_note(2.00, 67, 1.00)\n",
      "notes += xscribe.make_note(2.00, 72, 1.00)\n",
      "notes += xscribe.make_note(3.00, 69, 1.00)\n",
      "notes += xscribe.make_note(3.00, 60, 1.00)\n",
      "notes += xscribe.make_note(4.00, 68, 2.00)\n",
      "notes += xscribe.make_note(4.00, 61, 2.00)\n",
      "\n",
      "staff = xscribe.transcribe(notes)\n",
      "xscribe.show(staff)\n",
      "xscribe.plot(notes, pitch_range=(58,74), figsize=(10,3))"
     ],
     "language": "python",
     "metadata": {},
     "outputs": [
      {
       "metadata": {},
       "output_type": "display_data",
       "png": "[encoded data removed]"
      },
      {
       "metadata": {},
       "output_type": "display_data",
       "png": "[encoded data removed]",
       "text": [
        "<matplotlib.figure.Figure at 0x1035687d0>"
       ]
      }
     ],
     "prompt_number": 27
    },
    {
     "cell_type": "code",
     "collapsed": false,
     "input": [
      "\"\"\"what about really close notes? gracenotes\"\"\"\n",
      "\n",
      "# changing gracenote render behavior comes later...\n",
      "\n",
      "notes = []\n",
      "notes += xscribe.make_note(0.00, 63, 0.95)\n",
      "notes += xscribe.make_note(0.95, 67, 0.05)  # gracenote\n",
      "notes += xscribe.make_note(1.00, 66, 0.05)  # gracenote\n",
      "notes += xscribe.make_note(1.05, 72, 0.95)\n",
      "notes += xscribe.make_note(2.00, 70, 1.00)\n",
      "notes += xscribe.make_note(3.00, 68, 0.01)  # gracenote\n",
      "notes += xscribe.make_note(3.01, 64, 0.01)  # gracenote\n",
      "notes += xscribe.make_note(3.02, 66, 0.01)  # gracenote\n",
      "notes += xscribe.make_note(3.03, 62, 0.97)\n",
      "notes += xscribe.make_note(4.00, 71, 0.04)  # gracenote\n",
      "notes += xscribe.make_note(4.04, 72, 0.96)\n",
      "\n",
      "staff = xscribe.transcribe(notes, verbose=False)\n",
      "xscribe.show(staff)\n",
      "xscribe.plot(notes, pitch_range=(58,74), figsize=(10,3))"
     ],
     "language": "python",
     "metadata": {},
     "outputs": [
      {
       "metadata": {},
       "output_type": "display_data",
       "png": "[encoded data removed]"
      },
      {
       "metadata": {},
       "output_type": "display_data",
       "png": "[encoded data removed]",
       "text": [
        "<matplotlib.figure.Figure at 0x107db4590>"
       ]
      }
     ],
     "prompt_number": 34
    },
    {
     "cell_type": "code",
     "collapsed": false,
     "input": [
      "\"\"\"let's change the tempo\"\"\"\n",
      "\n",
      "# include a tempi argument to set the transcription tempo\n",
      "\n",
      "notes = []\n",
      "notes += xscribe.make_note(0.00, 60, 1.00)\n",
      "notes += xscribe.make_note(1.00, 62, 1.00)\n",
      "notes += xscribe.make_note(2.00, 64, 1.00)\n",
      "notes += xscribe.make_note(3.00, 65, 1.00)\n",
      "notes += xscribe.make_note(4.00, 67, 1.00)\n",
      "notes += xscribe.make_note(5.00, 69, 1.00)\n",
      "notes += xscribe.make_note(6.00, 71, 1.00)\n",
      "notes += xscribe.make_note(7.00, 72, 1.00)\n",
      "\n",
      "staff = xscribe.transcribe(notes, tempi=[70])\n",
      "xscribe.show(staff)\n",
      "xscribe.plot(notes, pitch_range=(58,74), figsize=(10,3))"
     ],
     "language": "python",
     "metadata": {},
     "outputs": [
      {
       "metadata": {},
       "output_type": "display_data",
       "png": "[encoded data removed]"
      },
      {
       "metadata": {},
       "output_type": "display_data",
       "png": "[encoded data removed]",
       "text": [
        "<matplotlib.figure.Figure at 0x1085ccf50>"
       ]
      }
     ],
     "prompt_number": 6
    },
    {
     "cell_type": "code",
     "collapsed": false,
     "input": [
      "\"\"\"multiple tempos(sp)?\"\"\"\n",
      "\n",
      "# yes, that's a tempi list! \n",
      "\n",
      "notes = []\n",
      "notes += xscribe.make_note(0.00, 60, 1.00)\n",
      "notes += xscribe.make_note(1.00, 62, 1.00)\n",
      "notes += xscribe.make_note(2.00, 64, 1.00)\n",
      "notes += xscribe.make_note(3.00, 65, 1.00)\n",
      "notes += xscribe.make_note(4.00, 67, 1.00)\n",
      "notes += xscribe.make_note(5.00, 69, 1.00)\n",
      "notes += xscribe.make_note(6.00, 71, 1.00)\n",
      "notes += xscribe.make_note(7.00, 72, 1.00)\n",
      "\n",
      "staff = xscribe.transcribe(notes, tempi=[120, 60, 30])\n",
      "xscribe.show(staff)\n",
      "xscribe.plot(notes, pitch_range=(58,74), figsize=(10,3))"
     ],
     "language": "python",
     "metadata": {},
     "outputs": [
      {
       "metadata": {},
       "output_type": "display_data",
       "png": "[encoded data removed]"
      },
      {
       "metadata": {},
       "output_type": "display_data",
       "png": "[encoded data removed]",
       "text": [
        "<matplotlib.figure.Figure at 0x108ebded0>"
       ]
      }
     ],
     "prompt_number": 38
    },
    {
     "cell_type": "code",
     "collapsed": false,
     "input": [
      "\"\"\"we can change the time signature too\"\"\"\n",
      "\n",
      "# include a time_signatures argument\n",
      "\n",
      "notes = []\n",
      "notes += xscribe.make_note(0.00, 60, 1.00)\n",
      "notes += xscribe.make_note(1.00, 62, 1.00)\n",
      "notes += xscribe.make_note(2.00, 64, 1.00)\n",
      "notes += xscribe.make_note(3.00, 65, 1.00)\n",
      "notes += xscribe.make_note(4.00, 67, 1.00)\n",
      "notes += xscribe.make_note(5.00, 69, 1.00)\n",
      "notes += xscribe.make_note(6.00, 71, 1.00)\n",
      "notes += xscribe.make_note(7.00, 72, 1.00)\n",
      "\n",
      "staff = xscribe.transcribe(notes, time_signatures=[(3,4)])\n",
      "xscribe.show(staff)\n",
      "xscribe.plot(notes, pitch_range=(58,74), figsize=(10,3))"
     ],
     "language": "python",
     "metadata": {},
     "outputs": [
      {
       "metadata": {},
       "output_type": "display_data",
       "png": "[encoded data removed]"
      },
      {
       "metadata": {},
       "output_type": "display_data",
       "png": "[encoded data removed]",
       "text": [
        "<matplotlib.figure.Figure at 0x108229c10>"
       ]
      }
     ],
     "prompt_number": 40
    },
    {
     "cell_type": "code",
     "collapsed": false,
     "input": [
      "\"\"\"and not just once\"\"\"\n",
      "\n",
      "# a time_signatures list\n",
      "\n",
      "notes = []\n",
      "notes += xscribe.make_note(0.00, 60, 1.00)\n",
      "notes += xscribe.make_note(1.00, 62, 1.00)\n",
      "notes += xscribe.make_note(2.00, 64, 1.00)\n",
      "notes += xscribe.make_note(3.00, 65, 1.00)\n",
      "notes += xscribe.make_note(4.00, 67, 1.00)\n",
      "notes += xscribe.make_note(5.00, 69, 1.00)\n",
      "notes += xscribe.make_note(6.00, 71, 1.00)\n",
      "notes += xscribe.make_note(7.00, 72, 1.00)\n",
      "\n",
      "staff = xscribe.transcribe(notes, time_signatures=[(3,4), (5,8)])\n",
      "xscribe.show(staff)\n",
      "xscribe.plot(notes, pitch_range=(58,74), figsize=(10,3))"
     ],
     "language": "python",
     "metadata": {},
     "outputs": [
      {
       "metadata": {},
       "output_type": "display_data",
       "png": "[encoded data removed]"
      },
      {
       "metadata": {},
       "output_type": "display_data",
       "png": "[encoded data removed]",
       "text": [
        "<matplotlib.figure.Figure at 0x107d394d0>"
       ]
      }
     ],
     "prompt_number": 42
    },
    {
     "cell_type": "code",
     "collapsed": false,
     "input": [
      "\"\"\"random notes, random tempi, random time sigs\"\"\"\n",
      "\n",
      "random.seed(0)\n",
      "\n",
      "notes = []\n",
      "curr_time = 0\n",
      "total_time = 20.0\n",
      "\n",
      "while curr_time < total_time:\n",
      "\n",
      "    note_dur = random.random()\n",
      "    \n",
      "    if random.randint(0,5) <= 4:\n",
      "        note_pitch = random.randint(58,72)\n",
      "        notes += xscribe.make_note(curr_time, note_pitch, note_dur)\n",
      "        curr_time += note_dur\n",
      "        \n",
      "    else:\n",
      "        curr_time += note_dur\n",
      "\n",
      "tempi = [random.random()*90 + 50 for i in range(7)]\n",
      "time_signatures = [(random.randint(4,6), random.randint(1,2)*4) for i in range(7)]\n",
      "\n",
      "staff = xscribe.transcribe(notes, tempi=tempi, time_signatures=time_signatures)\n",
      "xscribe.show(staff)\n",
      "xscribe.plot(notes, pitch_range=(56,74), figsize=(10,3))"
     ],
     "language": "python",
     "metadata": {},
     "outputs": [
      {
       "metadata": {},
       "output_type": "display_data",
       "png": "[encoded data removed]"
      },
      {
       "metadata": {},
       "output_type": "display_data",
       "png": "[encoded data removed]",
       "text": [
        "<matplotlib.figure.Figure at 0x10ac35d10>"
       ]
      }
     ],
     "prompt_number": 45
    },
    {
     "cell_type": "code",
     "collapsed": false,
     "input": [
      "\"\"\"how do we change possible subdivisions?\"\"\"\n",
      "\n",
      "# create an empty BeatDivsionScheme and add to it\n",
      "bds = xscribe.BeatDivisionScheme()\n",
      "\n",
      "# duration 4 beats\n",
      "# bds.add_tuplet((1,1), 4.0)    # /1 whole note\n",
      "# bds.add_tuplet((3,2), 2.0)    # /3 half note triplet\n",
      "# bds.add_tuplet((5,4), 1.0)    # /5 quarter note quintuplet\n",
      "# bds.add_tuplet((7,4), 1.0)    # /5 quarter note septuplet\n",
      "\n",
      "# duration 2 beats\n",
      "# bds.add_tuplet((1,1), 2.0)    # /1 half note\n",
      "bds.add_tuplet((3,2), 1.0)    # /3 quarter note triplet\n",
      "# bds.add_tuplet((5,4), 1.0/2)  # /5 eighth note quintuplet\n",
      "# bds.add_tuplet((7,4), 1.0/2)  # /7 eighth note septuplet\n",
      "\n",
      "# duration 1 beat\n",
      "# bds.add_tuplet((1,1), 1.0)    # /1 quarter note\n",
      "# bds.add_tuplet((2,2), 1.0/2)  # /2 eighth note\n",
      "# bds.add_tuplet((3,2), 1.0/2)  # /3 eighth note triplet\n",
      "# bds.add_tuplet((4,4), 1.0/4)  # /4 sixteenth note\n",
      "# bds.add_tuplet((5,4), 1.0/4)  # /5 quintuplet\n",
      "# bds.add_tuplet((6,4), 1.0/4)  # /6 sextuplet\n",
      "# bds.add_tuplet((7,4), 1.0/4)  # /7 septuplet\n",
      "\n",
      "notes = []\n",
      "notes += xscribe.make_note(0.00, 60, 1.00)\n",
      "notes += xscribe.make_note(1.00, 62, 1.00)\n",
      "notes += xscribe.make_note(2.00, 64, 1.00)\n",
      "notes += xscribe.make_note(3.00, 65, 1.00)\n",
      "notes += xscribe.make_note(4.00, 67, 1.00)\n",
      "notes += xscribe.make_note(5.00, 69, 1.00)\n",
      "notes += xscribe.make_note(6.00, 71, 1.00)\n",
      "notes += xscribe.make_note(7.00, 72, 1.00)\n",
      "\n",
      "staff = xscribe.transcribe(notes, beat_division_scheme=bds)\n",
      "xscribe.show(staff)\n",
      "xscribe.plot(notes, pitch_range=(58,74), figsize=(10,3))"
     ],
     "language": "python",
     "metadata": {},
     "outputs": [
      {
       "metadata": {},
       "output_type": "display_data",
       "png": "[encoded data removed]"
      },
      {
       "metadata": {},
       "output_type": "display_data",
       "png": "[encoded data removed]",
       "text": [
        "<matplotlib.figure.Figure at 0x1067525d0>"
       ]
      }
     ],
     "prompt_number": 7
    },
    {
     "cell_type": "code",
     "collapsed": false,
     "input": [
      "\"\"\"extensibility? listeners and callbacks\"\"\"\n",
      "\n",
      "\"\"\" \n",
      "really just proof of concept here, but the idea is\n",
      "you can register listeners with various transcriber\n",
      "events--things like 'new_note', tied_note', and\n",
      "whatever else i can think up. you give the transcriber\n",
      "a callback function to execture when the event occurs.\n",
      "the function interface will probably be specific to \n",
      "the event. i've only implemented these two so far.\n",
      "the idea is i'd like to be able to change the behavior\n",
      "of things like cent deviation rendering, dynamics, \n",
      "slurs, whatever without having to dig into the code.\n",
      "i imagine i'll include a little library of common\n",
      "ones in the transcriber package and build it as i go.\n",
      "\n",
      "\"\"\"\n",
      "\n",
      "notes = []\n",
      "notes += xscribe.make_note(0.00, 69, 1.00)\n",
      "notes += xscribe.make_note(1.00, 63, 1.00)\n",
      "notes += xscribe.make_note(2.00, 64, 1.00)\n",
      "notes += xscribe.make_note(3.00, 66, 2.00)\n",
      "notes += xscribe.make_note(5.00, 67, 1.00)\n",
      "notes += xscribe.make_note(6.00, 69, 1.00)\n",
      "notes += xscribe.make_note(7.00, 73, 3.00)\n",
      "notes += xscribe.make_note(10.00, 72, 1.00)\n",
      "\n",
      "def apply_cent_deviations(notes_raw, notes_abj, verbose=False):\n",
      "    \"\"\"Attach cent deviations to note(s).\"\"\"\n",
      "\n",
      "    if verbose: print \"\\n  attaching cent deviations\"\n",
      "\n",
      "    for note_raw in notes_raw:\n",
      "        markup = abj.markuptools.Markup(r'\\fontsize #-4 \"{0}\"'.format(note_raw.pitch), direction=None)\n",
      "        abj.attach(markup, notes_abj)\n",
      "        \n",
      "def apply_bonk_deviations(notes_raw, notes_abj, verbose=False):\n",
      "    \"\"\"Attach ** to note(s).\"\"\"\n",
      "\n",
      "    if verbose: print \"\\n  attaching bonk deviations\"\n",
      "\n",
      "    for note_raw in notes_raw:\n",
      "        markup = abj.markuptools.Markup(r'\\fontsize #-2 \"**\"', direction=None)\n",
      "        abj.attach(markup, notes_abj)\n",
      "        \n",
      "staff = xscribe.transcribe(notes, \n",
      "    listeners=[('new_note', apply_cent_deviations),\n",
      "               ('tied_note', apply_bonk_deviations)])\n",
      "xscribe.show(staff)\n",
      "xscribe.plot(notes, pitch_range=(58,74), figsize=(10,3))"
     ],
     "language": "python",
     "metadata": {},
     "outputs": [
      {
       "metadata": {},
       "output_type": "display_data",
       "png": "[encoded data removed]"
      },
      {
       "metadata": {},
       "output_type": "display_data",
       "png": "[encoded data removed]",
       "text": [
        "<matplotlib.figure.Figure at 0x109992990>"
       ]
      }
     ],
     "prompt_number": 49
    },
    {
     "cell_type": "code",
     "collapsed": false,
     "input": [
      "\"\"\"extensibility? additional note features\"\"\"\n",
      "\n",
      "\"\"\"\n",
      "this is NOT YET IMPLEMENTED but the idea is we'd like\n",
      "to be able to add features to notes when we create them.\n",
      "the transcriber will have built-in listeners for standard\n",
      "things like 'dynamics' and 'articulation'\n",
      "\n",
      "\"\"\"\n",
      "\n",
      "notes = []\n",
      "notes += xscribe.make_note(0.00, 69, 1.00, [('dynamic', 'ppp'), ('articulation', 'staccato')])\n",
      "notes += xscribe.make_note(1.00, 63, 1.00, [('dynamic', 'pp'), ('articulation', 'accent')])\n",
      "notes += xscribe.make_note(2.00, 64, 1.00, [('dynamic', 'p'), ('articulation', 'staccato')])\n",
      "notes += xscribe.make_note(3.00, 66, 2.00, [('dynamic', 'mp'), ('articulation', 'accent')])\n",
      "\n",
      "\"\"\"\n",
      "and then you can also create your own features and \n",
      "define a custom listener for them. basically, it's\n",
      "like saying call my custom function when this note\n",
      "comes up and pass me these arguments.\n",
      "\n",
      "\"\"\"\n",
      "\n",
      "notes = []\n",
      "notes += xscribe.make_note(0.00, 69, 1.00, [('asparagus', [1.2323, 5.4, 'hi'])])\n",
      "notes += xscribe.make_note(1.00, 63, 1.00, [('lolypops', 11)])\n",
      "notes += xscribe.make_note(2.00, 64, 1.00, [('pumpkins', 'nope'))])\n",
      "notes += xscribe.make_note(3.00, 66, 2.00, [('cheeeeese', ['one', 'two', 'three'])])\n",
      "\n",
      "\"\"\"\n",
      "actuallllllly, come to think of it, there's no reason\n",
      "we can't just straight up pass lilypond markup along as \n",
      "a note features. that'd savebunch of time having to\n",
      "create types for all these different kinds of things and\n",
      "gives us direct access to the lilypond language.\n",
      "\n",
      "\"\"\"\n",
      "\n",
      "notes = []\n",
      "notes += xscribe.make_note(0.00, 69, 1.00, [('lily', '\\ppp'), ('lily', '\\staccato')])\n",
      "notes += xscribe.make_note(1.00, 63, 1.00, [('lily', '\\cresc')])\n",
      "notes += xscribe.make_note(2.00, 64, 1.00, [('lily', '\\!'), ])\n"
     ],
     "language": "python",
     "metadata": {},
     "outputs": [
      {
       "ename": "SyntaxError",
       "evalue": "invalid syntax (<ipython-input-16-caf4bc0f0ddd>, line 28)",
       "output_type": "pyerr",
       "traceback": [
        "\u001b[0;36m  File \u001b[0;32m\"<ipython-input-16-caf4bc0f0ddd>\"\u001b[0;36m, line \u001b[0;32m28\u001b[0m\n\u001b[0;31m    notes += xscribe.make_note(2.00, 64, 1.00, [('pumpkins', 'nope'))])\u001b[0m\n\u001b[0m                                                                    ^\u001b[0m\n\u001b[0;31mSyntaxError\u001b[0m\u001b[0;31m:\u001b[0m invalid syntax\n"
       ]
      }
     ],
     "prompt_number": 16
    },
    {
     "cell_type": "code",
     "collapsed": false,
     "input": [
      "\"\"\"OK, here's a quick a dirty implementation of that\"\"\"\n",
      "\n",
      "\"\"\"\n",
      "this is totally the way to do it--just pass lilypond \n",
      "right through the transcriber. in effect, the transcriber\n",
      "is really only needed for rhythmic transcription. we can\n",
      "(and it's probably better) to do the other stuff (dynamics,\n",
      "articulation, etc) outside and pass it in. we'll use\n",
      "listeners for features where the transcriber needs to think\n",
      "or where we want to tweak things like formatting. \n",
      "\n",
      "\"\"\"\n",
      "\n",
      "# note the need for escape chars on \\a, \\t, \\f\n",
      "\n",
      "notes = []\n",
      "notes += xscribe.make_note(0.00, 69, 1.50, [('lily', '\\\\accent'), ('lily', '\\mf'), ()]) \n",
      "notes += xscribe.make_note(1.50, 63, 1.00, [('lily', '\\\\turn')])\n",
      "notes += xscribe.make_note(3.00, 64, 1.00, [('lily', '\\\\fermata'), ('lily', '\\ppp')])\n",
      "\n",
      "staff = xscribe.transcribe(notes)\n",
      "xscribe.show(staff)\n",
      "xscribe.plot(notes, pitch_range=(58,74), figsize=(10,3))"
     ],
     "language": "python",
     "metadata": {},
     "outputs": [
      {
       "metadata": {},
       "output_type": "display_data",
       "png": "[encoded data removed]"
      },
      {
       "metadata": {},
       "output_type": "display_data",
       "png": "[encoded data removed]",
       "text": [
        "<matplotlib.figure.Figure at 0x106b65090>"
       ]
      }
     ],
     "prompt_number": 51
    },
    {
     "cell_type": "code",
     "collapsed": false,
     "input": [
      "\"\"\"BUG: can't append lily markup to rests ABJAD!!!\"\"\"\n",
      "\n",
      "\"\"\"\n",
      "this is an abjad thing. not sure i want to hack at this b/c \n",
      "i'll likely remove abjad from this part of the transcriber \n",
      "in the near future.\n",
      "\"\"\"\n",
      "\n",
      "notes = []\n",
      "notes += [xscribe.Note(0.00, 69, 'on', features=[('lily', '\\staccato'), ('lily', '\\mf')])]\n",
      "notes += [xscribe.Note(1.00, 69, 'off', features=[('lily', '\\p')])]\n",
      "notes += [xscribe.Note(2.00, 63, 'on', features=[('lily', '\\pp')])]\n",
      "notes += [xscribe.Note(3.00, 63, 'off', features=[('lily', '\\mp')])]\n",
      "\n",
      "staff = xscribe.transcribe(notes)\n",
      "xscribe.show(staff)\n",
      "xscribe.plot(notes, pitch_range=(58,74), figsize=(10,3))"
     ],
     "language": "python",
     "metadata": {},
     "outputs": [
      {
       "metadata": {},
       "output_type": "display_data",
       "png": "[encoded data removed]"
      },
      {
       "metadata": {},
       "output_type": "display_data",
       "png": "[encoded data removed]",
       "text": [
        "<matplotlib.figure.Figure at 0x10976cf10>"
       ]
      }
     ],
     "prompt_number": 13
    },
    {
     "cell_type": "code",
     "collapsed": false,
     "input": [
      "\"\"\"FIXED: measure push\"\"\"\n",
      "\n",
      "notes = []\n",
      "notes += xscribe.make_note(0.00, 60, 1.95)\n",
      "notes += xscribe.make_note(1.95, 60, 1.05)\n",
      "notes += xscribe.make_note(3.00, 60, 0.95)\n",
      "notes += xscribe.make_note(3.95, 60, 1.05)\n",
      "\n",
      "staff = xscribe.transcribe(notes, verbose=False)\n",
      "xscribe.show(staff)\n",
      "xscribe.plot(notes, figsize=(12,3))"
     ],
     "language": "python",
     "metadata": {},
     "outputs": [
      {
       "metadata": {},
       "output_type": "display_data",
       "png": "[encoded data removed]"
      },
      {
       "metadata": {},
       "output_type": "display_data",
       "png": "[encoded data removed]",
       "text": [
        "<matplotlib.figure.Figure at 0x107835dd0>"
       ]
      }
     ],
     "prompt_number": 53
    },
    {
     "cell_type": "code",
     "collapsed": false,
     "input": [
      "\"\"\"FIXED: ties\"\"\"\n",
      "\n",
      "# 1. ties within tuplets(never a tie in there right?) <--???\n",
      "# 2. ties between tuplets\n",
      "# 3. ties between measures\n",
      "\n",
      "notes = []\n",
      "notes += xscribe.make_note(0.00, 60, 0.33)\n",
      "notes += xscribe.make_note(0.33, 60, 0.33)\n",
      "notes += xscribe.make_note(0.66, 60, 1.33)\n",
      "notes += xscribe.make_note(2.00, 60, 1.00)\n",
      "notes += xscribe.make_note(3.00, 60, 2.00)\n",
      "\n",
      "staff = xscribe.transcribe(notes, verbose=False)\n",
      "xscribe.show(staff)\n",
      "xscribe.plot(notes, figsize=(12,3))"
     ],
     "language": "python",
     "metadata": {},
     "outputs": [
      {
       "metadata": {},
       "output_type": "display_data",
       "png": "[encoded data removed]"
      },
      {
       "metadata": {},
       "output_type": "display_data",
       "png": "[encoded data removed]",
       "text": [
        "<matplotlib.figure.Figure at 0x107d4d1d0>"
       ]
      }
     ],
     "prompt_number": 55
    },
    {
     "cell_type": "code",
     "collapsed": false,
     "input": [
      "\"\"\"FIXED: why these tied?\"\"\"\n",
      "\n",
      "notes = []\n",
      "notes += xscribe.make_note(0.00, 60, 0.2)\n",
      "notes += xscribe.make_note(0.2, 60, 0.2)\n",
      "notes += xscribe.make_note(0.4, 60, 0.4)\n",
      "notes += xscribe.make_note(0.8, 60, 0.2)\n",
      "notes += xscribe.make_note(1.00, 60, 1.00)\n",
      "notes += xscribe.make_note(2.00, 60, 1.00)\n",
      "notes += xscribe.make_note(3.00, 60, 1.00)\n",
      "\n",
      "staff = xscribe.transcribe(notes)\n",
      "xscribe.show(staff)\n",
      "xscribe.plot(notes, figsize=(12,3))"
     ],
     "language": "python",
     "metadata": {},
     "outputs": [
      {
       "metadata": {},
       "output_type": "display_data",
       "png": "[encoded data removed]"
      },
      {
       "metadata": {},
       "output_type": "display_data",
       "png": "[encoded data removed]",
       "text": [
        "<matplotlib.figure.Figure at 0x106bd5b10>"
       ]
      }
     ],
     "prompt_number": 57
    },
    {
     "cell_type": "code",
     "collapsed": false,
     "input": [
      "\"\"\"FIXED: and this second note not tied?\"\"\"\n",
      "\n",
      "# tieing to a tuplet (not a quarter note)\n",
      "\n",
      "notes = []\n",
      "notes += xscribe.make_note(0.00, 60, 1.50)\n",
      "notes += xscribe.make_note(1.50, 60, 1.00)\n",
      "\n",
      "staff = xscribe.transcribe(notes)\n",
      "xscribe.show(staff)\n",
      "xscribe.plot(notes, figsize=(12,3))"
     ],
     "language": "python",
     "metadata": {},
     "outputs": [
      {
       "metadata": {},
       "output_type": "display_data",
       "png": "[encoded data removed]"
      },
      {
       "metadata": {},
       "output_type": "display_data",
       "png": "[encoded data removed]",
       "text": [
        "<matplotlib.figure.Figure at 0x1078ddf50>"
       ]
      }
     ],
     "prompt_number": 60
    },
    {
     "cell_type": "code",
     "collapsed": false,
     "input": [
      "\"\"\"FIXED: ties within diffs! you do need em!\"\"\"\n",
      "\n",
      "notes = []\n",
      "notes += xscribe.make_note(0.00, 68, 5.0/4)\n",
      "notes += xscribe.make_note(5.0/4, 64, 3.0/4+1.0/7)\n",
      "notes += xscribe.make_note(2+1.0/7, 72, 6.0/7+1.0/6)\n",
      "notes += xscribe.make_note(3+1.0/6, 61, 5.0/6)\n",
      "notes += xscribe.make_note(4, 58, 2.0/7*5)\n",
      "\n",
      "staff = xscribe.transcribe(notes, time_signatures=[(6,4)], verbose=False)\n",
      "xscribe.show(staff)\n",
      "xscribe.plot(notes, pitch_range=(56,74), figsize=(12,3))"
     ],
     "language": "python",
     "metadata": {},
     "outputs": [
      {
       "metadata": {},
       "output_type": "display_data",
       "png": "[encoded data removed]"
      },
      {
       "metadata": {},
       "output_type": "display_data",
       "png": "[encoded data removed]",
       "text": [
        "<matplotlib.figure.Figure at 0x108730210>"
       ]
      }
     ],
     "prompt_number": 62
    },
    {
     "cell_type": "code",
     "collapsed": false,
     "input": [
      "\"\"\"FIXED: both chords and single notes?\"\"\"\n",
      "\n",
      "random.seed(3)\n",
      "\n",
      "notes = []\n",
      "\n",
      "for i in range(6):\n",
      "\n",
      "    note_time = random.randint(0,12)\n",
      "    note_dur = random.randint(1,3)\n",
      "    note_pitch = random.randint(58,72)\n",
      "    \n",
      "    notes += xscribe.make_note(note_time, note_pitch, note_dur)\n",
      "    \n",
      "staff = xscribe.transcribe(notes)\n",
      "xscribe.show(staff)\n",
      "xscribe.plot(notes, pitch_range=(56,74), figsize=(12,3))"
     ],
     "language": "python",
     "metadata": {},
     "outputs": [
      {
       "metadata": {},
       "output_type": "display_data",
       "png": "[encoded data removed]"
      },
      {
       "metadata": {},
       "output_type": "display_data",
       "png": "[encoded data removed]",
       "text": [
        "<matplotlib.figure.Figure at 0x1095d5510>"
       ]
      }
     ],
     "prompt_number": 19
    },
    {
     "cell_type": "code",
     "collapsed": false,
     "input": [
      "staff.__format__()"
     ],
     "language": "python",
     "metadata": {},
     "outputs": [
      {
       "metadata": {},
       "output_type": "pyout",
       "prompt_number": 63,
       "text": [
        "\"\\\\new Staff {\\n\\t{\\n\\t\\t\\\\time 6/4\\n\\t\\t{\\n\\t\\t\\tgs'4 ~\\n\\t\\t}\\n\\t\\t{\\n\\t\\t\\tgs'16 [\\n\\t\\t\\te'8. ~ ]\\n\\t\\t}\\n\\t\\t\\\\times 4/7 {\\n\\t\\t\\te'16 [\\n\\t\\t\\tc''4. ~ ]\\n\\t\\t}\\n\\t\\t\\\\times 2/3 {\\n\\t\\t\\tc''16 [\\n\\t\\t\\tcs'4 ~\\n\\t\\t\\tcs'16 ]\\n\\t\\t}\\n\\t\\t\\\\times 4/7 {\\n\\t\\t\\tas2 ~ [\\n\\t\\t\\tas8 ]\\n\\t\\t\\tr4\\n\\t\\t}\\n\\t}\\n}\""
       ]
      }
     ],
     "prompt_number": 63
    }
   ],
   "metadata": {}
  }
 ]
}