{
 "metadata": {
  "name": "",
  "signature": "sha256:3b96f38145132beaa18674b7d57317c9541a965fcdd5ab9962b62a3d020758b5"
 },
 "nbformat": 3,
 "nbformat_minor": 0,
 "worksheets": [
  {
   "cells": [
    {
     "cell_type": "code",
     "collapsed": false,
     "input": [
      "import trnzscrybe_master.trnzscrybe as xscribe\n",
      "%matplotlib inline"
     ],
     "language": "python",
     "metadata": {},
     "outputs": [],
     "prompt_number": 1
    },
    {
     "cell_type": "code",
     "collapsed": false,
     "input": [
      "# setup\n",
      "time_signature = xscribe.TimeSignature(4,4)\n",
      "tempo = 60\n",
      "beat_division_scheme = xscribe.default_beat_division_scheme()\n",
      "\n",
      "# notes\n",
      "notes = []\n",
      "notes += xscribe.make_note(0.00, 60, 1.0) # note 1\n",
      "notes += xscribe.make_note(1.00, 65, 1.00) # note 2\n",
      "notes += xscribe.make_note(2.00, 67, 5.5/28) # note 2\n",
      "notes += xscribe.make_note(2.00 + 5.5/28, 61, 22.2/28) # note 3\n",
      "\n",
      "# plot\n",
      "xscribe.plot(notes, figsize=(12,3))"
     ],
     "language": "python",
     "metadata": {},
     "outputs": [
      {
       "metadata": {},
       "output_type": "display_data",
       "png": "[encoded data removed]",
       "text": [
        "<matplotlib.figure.Figure at 0x10698a190>"
       ]
      }
     ],
     "prompt_number": 2
    },
    {
     "cell_type": "code",
     "collapsed": false,
     "input": [
      "# build tree\n",
      "tree = xscribe.Tree(time_signature, tempo, beat_division_scheme)\n",
      "tree.calculate(filter(lambda n: n.time<4.0, notes))"
     ],
     "language": "python",
     "metadata": {},
     "outputs": [
      {
       "output_type": "stream",
       "stream": "stdout",
       "text": [
        "calculating 0.0 - 1.0\n",
        "notes_in_range: [Note(on: time=0.00, pitch=60)]\n",
        "hit_points: [ 0.  1.]\n",
        "error: 0.0\n",
        "calculating 0.0 - 1.0\n",
        "notes_in_range: [Note(on: time=0.00, pitch=60)]\n",
        "hit_points: [ 0.   0.5  1. ]\n",
        "error: 0.0\n",
        "calculating 0.0 - 1.0\n",
        "notes_in_range: [Note(on: time=0.00, pitch=60)]\n",
        "hit_points: [ 0.          0.33333333  0.66666667  1.        ]\n",
        "error: 0.0\n",
        "calculating 0.0 - 1.0\n",
        "notes_in_range: [Note(on: time=0.00, pitch=60)]\n",
        "hit_points: [ 0.    0.25  0.5   0.75  1.  ]\n",
        "error: 0.0\n",
        "calculating 0.0 - 1.0\n",
        "notes_in_range: [Note(on: time=0.00, pitch=60)]\n",
        "hit_points: [ 0.   0.2  0.4  0.6  0.8  1. ]\n",
        "error: 0.0\n",
        "calculating 0.0 - 1.0\n",
        "notes_in_range: [Note(on: time=0.00, pitch=60)]\n",
        "hit_points: [ 0.          0.16666667  0.33333333  0.5         0.66666667  0.83333333\n",
        "  1.        ]\n",
        "error: 0.0\n",
        "calculating 0.0 - 1.0\n",
        "notes_in_range: [Note(on: time=0.00, pitch=60)]\n",
        "hit_points: [ 0.          0.14285714  0.28571429  0.42857143  0.57142857  0.71428571\n",
        "  0.85714286  1.        ]\n",
        "error: 0.0\n",
        "calculating 0.0 - 1.0\n",
        "notes_in_range: [Note(on: time=0.00, pitch=60)]\n",
        "hit_points: [ 0.     0.125  0.25   0.375  0.5    0.625  0.75   0.875  1.   ]\n",
        "error: 0.0\n",
        "calculating 1.0 - 2.0\n",
        "notes_in_range: [Note(off: time=1.00, pitch=60), Note(on: time=1.00, pitch=65)]\n",
        "hit_points: [ 1.  2.]\n",
        "error: 0.0\n",
        "calculating 1.0 - 2.0\n",
        "notes_in_range: [Note(off: time=1.00, pitch=60), Note(on: time=1.00, pitch=65)]\n",
        "hit_points: [ 1.   1.5  2. ]\n",
        "error: 0.0\n",
        "calculating 1.0 - 2.0\n",
        "notes_in_range: [Note(off: time=1.00, pitch=60), Note(on: time=1.00, pitch=65)]\n",
        "hit_points: [ 1.          1.33333333  1.66666667  2.        ]\n",
        "error: 0.0\n",
        "calculating 1.0 - 2.0\n",
        "notes_in_range: [Note(off: time=1.00, pitch=60), Note(on: time=1.00, pitch=65)]\n",
        "hit_points: [ 1.    1.25  1.5   1.75  2.  ]\n",
        "error: 0.0\n",
        "calculating 1.0 - 2.0\n",
        "notes_in_range: [Note(off: time=1.00, pitch=60), Note(on: time=1.00, pitch=65)]\n",
        "hit_points: [ 1.   1.2  1.4  1.6  1.8  2. ]\n",
        "error: 0.0\n",
        "calculating 1.0 - 2.0\n",
        "notes_in_range: [Note(off: time=1.00, pitch=60), Note(on: time=1.00, pitch=65)]\n",
        "hit_points: [ 1.          1.16666667  1.33333333  1.5         1.66666667  1.83333333\n",
        "  2.        ]\n",
        "error: 0.0\n",
        "calculating 1.0 - 2.0\n",
        "notes_in_range: [Note(off: time=1.00, pitch=60), Note(on: time=1.00, pitch=65)]\n",
        "hit_points: [ 1.          1.14285714  1.28571429  1.42857143  1.57142857  1.71428571\n",
        "  1.85714286  2.        ]\n",
        "error: 0.0\n",
        "calculating 1.0 - 2.0\n",
        "notes_in_range: [Note(off: time=1.00, pitch=60), Note(on: time=1.00, pitch=65)]\n",
        "hit_points: [ 1.     1.125  1.25   1.375  1.5    1.625  1.75   1.875  2.   ]\n",
        "error: 0.0\n",
        "calculating 2.0 - 3.0\n",
        "notes_in_range: [Note(off: time=2.00, pitch=65), Note(on: time=2.00, pitch=67), Note(off: time=2.20, pitch=67), Note(on: time=2.20, pitch=61), Note(off: time=2.99, pitch=61)]\n",
        "hit_points: [ 2.  3.]\n",
        "error: 0.403571428571\n",
        "calculating 2.0 - 3.0\n",
        "notes_in_range: [Note(off: time=2.00, pitch=65), Note(on: time=2.00, pitch=67), Note(off: time=2.20, pitch=67), Note(on: time=2.20, pitch=61), Note(off: time=2.99, pitch=61)]\n",
        "hit_points: [ 2.   2.5  3. ]\n",
        "error: 0.403571428571\n",
        "calculating 2.0 - 3.0\n",
        "notes_in_range: [Note(off: time=2.00, pitch=65), Note(on: time=2.00, pitch=67), Note(off: time=2.20, pitch=67), Note(on: time=2.20, pitch=61), Note(off: time=2.99, pitch=61)]\n",
        "hit_points: [ 2.          2.33333333  2.66666667  3.        ]\n",
        "error: 0.284523809524\n",
        "calculating 2.0 - 3.0\n",
        "notes_in_range: [Note(off: time=2.00, pitch=65), Note(on: time=2.00, pitch=67), Note(off: time=2.20, pitch=67), Note(on: time=2.20, pitch=61), Note(off: time=2.99, pitch=61)]\n",
        "hit_points: [ 2.    2.25  2.5   2.75  3.  ]\n",
        "error: 0.117857142857\n",
        "calculating 2.0 - 3.0\n",
        "notes_in_range: [Note(off: time=2.00, pitch=65), Note(on: time=2.00, pitch=67), Note(off: time=2.20, pitch=67), Note(on: time=2.20, pitch=61), Note(off: time=2.99, pitch=61)]\n",
        "hit_points: [ 2.   2.2  2.4  2.6  2.8  3. ]\n",
        "error: 0.0535714285714\n",
        "calculating 2.0 - 3.0\n",
        "notes_in_range: [Note(off: time=2.00, pitch=65), Note(on: time=2.00, pitch=67), Note(off: time=2.20, pitch=67), Note(on: time=2.20, pitch=61), Note(off: time=2.99, pitch=61)]\n",
        "hit_points: [ 2.          2.16666667  2.33333333  2.5         2.66666667  2.83333333\n",
        "  3.        ]\n",
        "error: 0.0702380952381\n",
        "calculating 2.0 - 3.0\n",
        "notes_in_range: [Note(off: time=2.00, pitch=65), Note(on: time=2.00, pitch=67), Note(off: time=2.20, pitch=67), Note(on: time=2.20, pitch=61), Note(off: time=2.99, pitch=61)]\n",
        "hit_points: [ 2.          2.14285714  2.28571429  2.42857143  2.57142857  2.71428571\n",
        "  2.85714286  3.        ]\n",
        "error: 0.353571428571\n",
        "calculating 2.0 - 3.0\n",
        "notes_in_range: [Note(off: time=2.00, pitch=65), Note(on: time=2.00, pitch=67), Note(off: time=2.20, pitch=67), Note(on: time=2.20, pitch=61), Note(off: time=2.99, pitch=61)]\n",
        "hit_points: [ 2.     2.125  2.25   2.375  2.5    2.625  2.75   2.875  3.   ]\n",
        "error: 0.117857142857\n",
        "calculating 3.0 - 4.0\n",
        "notes_in_range: []\n",
        "hit_points: [ 3.  4.]\n",
        "error: 0\n",
        "calculating 3.0 - 4.0\n",
        "notes_in_range: []\n",
        "hit_points: [ 3.   3.5  4. ]\n",
        "error: 0\n",
        "calculating 3.0 - 4.0\n",
        "notes_in_range: []\n",
        "hit_points: [ 3.          3.33333333  3.66666667  4.        ]\n",
        "error: 0\n",
        "calculating 3.0 - 4.0\n",
        "notes_in_range: []\n",
        "hit_points: [ 3.    3.25  3.5   3.75  4.  ]\n",
        "error: 0\n",
        "calculating 3.0 - 4.0\n",
        "notes_in_range: []\n",
        "hit_points: [ 3.   3.2  3.4  3.6  3.8  4. ]\n",
        "error: 0.0\n",
        "calculating 3.0 - 4.0\n",
        "notes_in_range: []\n",
        "hit_points: [ 3.          3.16666667  3.33333333  3.5         3.66666667  3.83333333\n",
        "  4.        ]\n",
        "error: 0\n",
        "calculating 3.0 - 4.0\n",
        "notes_in_range: []\n",
        "hit_points: [ 3.          3.14285714  3.28571429  3.42857143  3.57142857  3.71428571\n",
        "  3.85714286  4.        ]\n",
        "error: 0.0\n",
        "calculating 3.0 - 4.0\n",
        "notes_in_range: []\n",
        "hit_points: [ 3.     3.125  3.25   3.375  3.5    3.625  3.75   3.875  4.   ]\n",
        "error: 0\n",
        "calculating 2.0 - 4.0\n",
        "notes_in_range: [Note(off: time=2.00, pitch=65), Note(on: time=2.00, pitch=67), Note(off: time=2.20, pitch=67), Note(on: time=2.20, pitch=61), Note(off: time=2.99, pitch=61)]\n",
        "hit_points: [ 2.  4.]\n",
        "error: 1.38214285714\n",
        "calculating 2.0 - 4.0\n",
        "notes_in_range: [Note(off: time=2.00, pitch=65), Note(on: time=2.00, pitch=67), Note(off: time=2.20, pitch=67), Note(on: time=2.20, pitch=61), Note(off: time=2.99, pitch=61)]\n",
        "hit_points: [ 2.          2.66666667  3.33333333  4.        ]\n",
        "error: 0.715476190476\n",
        "calculating 2.0 - 4.0\n",
        "notes_in_range: [Note(off: time=2.00, pitch=65), Note(on: time=2.00, pitch=67), Note(off: time=2.20, pitch=67), Note(on: time=2.20, pitch=61), Note(off: time=2.99, pitch=61)]\n",
        "hit_points: [ 2.   2.4  2.8  3.2  3.6  4. ]\n",
        "error: 1.74642857143\n",
        "calculating 2.0 - 4.0\n",
        "notes_in_range: [Note(off: time=2.00, pitch=65), Note(on: time=2.00, pitch=67), Note(off: time=2.20, pitch=67), Note(on: time=2.20, pitch=61), Note(off: time=2.99, pitch=61)]\n",
        "hit_points: [ 2.          2.28571429  2.57142857  2.85714286  3.14285714  3.42857143\n",
        "  3.71428571  4.        ]\n",
        "error: 0.932142857143\n",
        "calculating 1.0 - 3.0\n",
        "notes_in_range: [Note(off: time=1.00, pitch=60), Note(on: time=1.00, pitch=65), Note(off: time=2.00, pitch=65), Note(on: time=2.00, pitch=67), Note(off: time=2.20, pitch=67), Note(on: time=2.20, pitch=61), Note(off: time=2.99, pitch=61)]\n",
        "hit_points: [ 1.  3.]\n",
        "error: 3.61785714286\n",
        "calculating 1.0 - 3.0\n",
        "notes_in_range: [Note(off: time=1.00, pitch=60), Note(on: time=1.00, pitch=65), Note(off: time=2.00, pitch=65), Note(on: time=2.00, pitch=67), Note(off: time=2.20, pitch=67), Note(on: time=2.20, pitch=61), Note(off: time=2.99, pitch=61)]\n",
        "hit_points: [ 1.          1.66666667  2.33333333  3.        ]\n",
        "error: 0.95119047619\n",
        "calculating 1.0 - 3.0\n",
        "notes_in_range: [Note(off: time=1.00, pitch=60), Note(on: time=1.00, pitch=65), Note(off: time=2.00, pitch=65), Note(on: time=2.00, pitch=67), Note(off: time=2.20, pitch=67), Note(on: time=2.20, pitch=61), Note(off: time=2.99, pitch=61)]\n",
        "hit_points: [ 1.   1.4  1.8  2.2  2.6  3. ]\n",
        "error: 1.25357142857\n",
        "calculating 1.0 - 3.0\n",
        "notes_in_range: [Note(off: time=1.00, pitch=60), Note(on: time=1.00, pitch=65), Note(off: time=2.00, pitch=65), Note(on: time=2.00, pitch=67), Note(off: time=2.20, pitch=67), Note(on: time=2.20, pitch=61), Note(off: time=2.99, pitch=61)]\n",
        "hit_points: [ 1.          1.28571429  1.57142857  1.85714286  2.14285714  2.42857143\n",
        "  2.71428571  3.        ]\n",
        "error: 1.21071428571\n",
        "calculating 3.0 - 4.0\n",
        "notes_in_range: []\n",
        "hit_points: [ 3.  4.]\n",
        "error: 0\n",
        "calculating 3.0 - 4.0\n",
        "notes_in_range: []\n",
        "hit_points: [ 3.   3.5  4. ]\n",
        "error: 0\n",
        "calculating 3.0 - 4.0\n",
        "notes_in_range: []\n",
        "hit_points: [ 3.          3.33333333  3.66666667  4.        ]\n",
        "error: 0\n",
        "calculating 3.0 - 4.0\n",
        "notes_in_range: []\n",
        "hit_points: [ 3.    3.25  3.5   3.75  4.  ]\n",
        "error: 0\n",
        "calculating 3.0 - 4.0\n",
        "notes_in_range: []\n",
        "hit_points: [ 3.   3.2  3.4  3.6  3.8  4. ]\n",
        "error: 0.0\n",
        "calculating 3.0 - 4.0\n",
        "notes_in_range: []\n",
        "hit_points: [ 3.          3.16666667  3.33333333  3.5         3.66666667  3.83333333\n",
        "  4.        ]\n",
        "error: 0\n",
        "calculating 3.0 - 4.0\n",
        "notes_in_range: []\n",
        "hit_points: [ 3.          3.14285714  3.28571429  3.42857143  3.57142857  3.71428571\n",
        "  3.85714286  4.        ]\n",
        "error: 0.0\n",
        "calculating 3.0 - 4.0\n",
        "notes_in_range: []\n",
        "hit_points: [ 3.     3.125  3.25   3.375  3.5    3.625  3.75   3.875  4.   ]\n",
        "error: 0\n",
        "calculating 0.0 - 2.0\n",
        "notes_in_range: [Note(on: time=0.00, pitch=60), Note(off: time=1.00, pitch=60), Note(on: time=1.00, pitch=65)]\n",
        "hit_points: [ 0.  2.]\n",
        "error: 2.0\n",
        "calculating 0.0 - 2.0\n",
        "notes_in_range: [Note(on: time=0.00, pitch=60), Note(off: time=1.00, pitch=60), Note(on: time=1.00, pitch=65)]\n",
        "hit_points: [ 0.          0.66666667  1.33333333  2.        ]\n",
        "error: 0.666666666667\n",
        "calculating 0.0 - 2.0\n",
        "notes_in_range: [Note(on: time=0.00, pitch=60), Note(off: time=1.00, pitch=60), Note(on: time=1.00, pitch=65)]\n",
        "hit_points: [ 0.   0.4  0.8  1.2  1.6  2. ]\n",
        "error: 1.2\n",
        "calculating 0.0 - 2.0\n",
        "notes_in_range: [Note(on: time=0.00, pitch=60), Note(off: time=1.00, pitch=60), Note(on: time=1.00, pitch=65)]\n",
        "hit_points: [ 0.          0.28571429  0.57142857  0.85714286  1.14285714  1.42857143\n",
        "  1.71428571  2.        ]\n",
        "error: 0.857142857143\n",
        "calculating 2.0 - 3.0\n",
        "notes_in_range: [Note(off: time=2.00, pitch=65), Note(on: time=2.00, pitch=67), Note(off: time=2.20, pitch=67), Note(on: time=2.20, pitch=61), Note(off: time=2.99, pitch=61)]\n",
        "hit_points: [ 2.  3.]\n",
        "error: 0.403571428571\n",
        "calculating 2.0 - 3.0\n",
        "notes_in_range: [Note(off: time=2.00, pitch=65), Note(on: time=2.00, pitch=67), Note(off: time=2.20, pitch=67), Note(on: time=2.20, pitch=61), Note(off: time=2.99, pitch=61)]\n",
        "hit_points: [ 2.   2.5  3. ]\n",
        "error: 0.403571428571\n",
        "calculating 2.0 - 3.0\n",
        "notes_in_range: [Note(off: time=2.00, pitch=65), Note(on: time=2.00, pitch=67), Note(off: time=2.20, pitch=67), Note(on: time=2.20, pitch=61), Note(off: time=2.99, pitch=61)]\n",
        "hit_points: [ 2.          2.33333333  2.66666667  3.        ]\n",
        "error: 0.284523809524\n",
        "calculating 2.0 - 3.0\n",
        "notes_in_range: [Note(off: time=2.00, pitch=65), Note(on: time=2.00, pitch=67), Note(off: time=2.20, pitch=67), Note(on: time=2.20, pitch=61), Note(off: time=2.99, pitch=61)]\n",
        "hit_points: [ 2.    2.25  2.5   2.75  3.  ]\n",
        "error: 0.117857142857\n",
        "calculating 2.0 - 3.0\n",
        "notes_in_range: [Note(off: time=2.00, pitch=65), Note(on: time=2.00, pitch=67), Note(off: time=2.20, pitch=67), Note(on: time=2.20, pitch=61), Note(off: time=2.99, pitch=61)]\n",
        "hit_points: [ 2.   2.2  2.4  2.6  2.8  3. ]\n",
        "error: 0.0535714285714\n",
        "calculating 2.0 - 3.0\n",
        "notes_in_range: [Note(off: time=2.00, pitch=65), Note(on: time=2.00, pitch=67), Note(off: time=2.20, pitch=67), Note(on: time=2.20, pitch=61), Note(off: time=2.99, pitch=61)]\n",
        "hit_points: [ 2.          2.16666667  2.33333333  2.5         2.66666667  2.83333333\n",
        "  3.        ]\n",
        "error: 0.0702380952381\n",
        "calculating 2.0 - 3.0"
       ]
      },
      {
       "output_type": "stream",
       "stream": "stdout",
       "text": [
        "\n",
        "notes_in_range: [Note(off: time=2.00, pitch=65), Note(on: time=2.00, pitch=67), Note(off: time=2.20, pitch=67), Note(on: time=2.20, pitch=61), Note(off: time=2.99, pitch=61)]\n",
        "hit_points: [ 2.          2.14285714  2.28571429  2.42857143  2.57142857  2.71428571\n",
        "  2.85714286  3.        ]\n",
        "error: 0.353571428571\n",
        "calculating 2.0 - 3.0\n",
        "notes_in_range: [Note(off: time=2.00, pitch=65), Note(on: time=2.00, pitch=67), Note(off: time=2.20, pitch=67), Note(on: time=2.20, pitch=61), Note(off: time=2.99, pitch=61)]\n",
        "hit_points: [ 2.     2.125  2.25   2.375  2.5    2.625  2.75   2.875  3.   ]\n",
        "error: 0.117857142857\n",
        "calculating 3.0 - 4.0\n",
        "notes_in_range: []\n",
        "hit_points: [ 3.  4.]\n",
        "error: 0\n",
        "calculating 3.0 - 4.0\n",
        "notes_in_range: []\n",
        "hit_points: [ 3.   3.5  4. ]\n",
        "error: 0\n",
        "calculating 3.0 - 4.0\n",
        "notes_in_range: []\n",
        "hit_points: [ 3.          3.33333333  3.66666667  4.        ]\n",
        "error: 0\n",
        "calculating 3.0 - 4.0\n",
        "notes_in_range: []\n",
        "hit_points: [ 3.    3.25  3.5   3.75  4.  ]\n",
        "error: 0\n",
        "calculating 3.0 - 4.0\n",
        "notes_in_range: []\n",
        "hit_points: [ 3.   3.2  3.4  3.6  3.8  4. ]\n",
        "error: 0.0\n",
        "calculating 3.0 - 4.0\n",
        "notes_in_range: []\n",
        "hit_points: [ 3.          3.16666667  3.33333333  3.5         3.66666667  3.83333333\n",
        "  4.        ]\n",
        "error: 0\n",
        "calculating 3.0 - 4.0\n",
        "notes_in_range: []\n",
        "hit_points: [ 3.          3.14285714  3.28571429  3.42857143  3.57142857  3.71428571\n",
        "  3.85714286  4.        ]\n",
        "error: 0.0\n",
        "calculating 3.0 - 4.0\n",
        "notes_in_range: []\n",
        "hit_points: [ 3.     3.125  3.25   3.375  3.5    3.625  3.75   3.875  4.   ]\n",
        "error: 0\n",
        "calculating 2.0 - 4.0\n",
        "notes_in_range: [Note(off: time=2.00, pitch=65), Note(on: time=2.00, pitch=67), Note(off: time=2.20, pitch=67), Note(on: time=2.20, pitch=61), Note(off: time=2.99, pitch=61)]\n",
        "hit_points: [ 2.  4.]\n",
        "error: 1.38214285714\n",
        "calculating 2.0 - 4.0\n",
        "notes_in_range: [Note(off: time=2.00, pitch=65), Note(on: time=2.00, pitch=67), Note(off: time=2.20, pitch=67), Note(on: time=2.20, pitch=61), Note(off: time=2.99, pitch=61)]\n",
        "hit_points: [ 2.          2.66666667  3.33333333  4.        ]\n",
        "error: 0.715476190476\n",
        "calculating 2.0 - 4.0\n",
        "notes_in_range: [Note(off: time=2.00, pitch=65), Note(on: time=2.00, pitch=67), Note(off: time=2.20, pitch=67), Note(on: time=2.20, pitch=61), Note(off: time=2.99, pitch=61)]\n",
        "hit_points: [ 2.   2.4  2.8  3.2  3.6  4. ]\n",
        "error: 1.74642857143\n",
        "calculating 2.0 - 4.0\n",
        "notes_in_range: [Note(off: time=2.00, pitch=65), Note(on: time=2.00, pitch=67), Note(off: time=2.20, pitch=67), Note(on: time=2.20, pitch=61), Note(off: time=2.99, pitch=61)]\n",
        "hit_points: [ 2.          2.28571429  2.57142857  2.85714286  3.14285714  3.42857143\n",
        "  3.71428571  4.        ]\n",
        "error: 0.932142857143\n",
        "calculating 0.0 - 4.0\n",
        "notes_in_range: [Note(on: time=0.00, pitch=60), Note(off: time=1.00, pitch=60), Note(on: time=1.00, pitch=65), Note(off: time=2.00, pitch=65), Note(on: time=2.00, pitch=67), Note(off: time=2.20, pitch=67), Note(on: time=2.20, pitch=61), Note(off: time=2.99, pitch=61)]\n",
        "hit_points: [ 0.  4.]\n",
        "error: 10.6178571429\n",
        "calculating 0.0 - 4.0\n",
        "notes_in_range: [Note(on: time=0.00, pitch=60), Note(off: time=1.00, pitch=60), Note(on: time=1.00, pitch=65), Note(off: time=2.00, pitch=65), Note(on: time=2.00, pitch=67), Note(off: time=2.20, pitch=67), Note(on: time=2.20, pitch=61), Note(off: time=2.99, pitch=61)]\n",
        "hit_points: [ 0.          1.33333333  2.66666667  4.        ]\n",
        "error: 3.2630952381\n",
        "calculating 0.0 - 4.0\n",
        "notes_in_range: [Note(on: time=0.00, pitch=60), Note(off: time=1.00, pitch=60), Note(on: time=1.00, pitch=65), Note(off: time=2.00, pitch=65), Note(on: time=2.00, pitch=67), Note(off: time=2.20, pitch=67), Note(on: time=2.20, pitch=61), Note(off: time=2.99, pitch=61)]\n",
        "hit_points: [ 0.   0.8  1.6  2.4  3.2  4. ]\n",
        "error: 5.45357142857\n",
        "calculating 0.0 - 4.0\n",
        "notes_in_range: [Note(on: time=0.00, pitch=60), Note(off: time=1.00, pitch=60), Note(on: time=1.00, pitch=65), Note(off: time=2.00, pitch=65), Note(on: time=2.00, pitch=67), Note(off: time=2.20, pitch=67), Note(on: time=2.20, pitch=61), Note(off: time=2.99, pitch=61)]\n",
        "hit_points: [ 0.          0.57142857  1.14285714  1.71428571  2.28571429  2.85714286\n",
        "  3.42857143  4.        ]\n",
        "error: 3.50357142857\n"
       ]
      }
     ],
     "prompt_number": 3
    },
    {
     "cell_type": "code",
     "collapsed": false,
     "input": [
      "# show tree\n",
      "tree.show()"
     ],
     "language": "python",
     "metadata": {},
     "outputs": [
      {
       "output_type": "stream",
       "stream": "stdout",
       "text": [
        "Node(val=1.0) [1, 2, 3, 4, 5, 6, 7, 8] [0.0, 0.0, 0.0, 0.0, 0.0, 0.0, 0.0, 0.0]\n",
        "  Node(val=1.0) [1, 2, 3, 4, 5, 6, 7, 8] [0.0, 0.0, 0.0, 0.0, 0.0, 0.0, 0.0, 0.0]\n",
        "    Node(val=1.0) [1, 2, 3, 4, 5, 6, 7, 8] [0.40357142857142891, 0.40357142857142891, 0.2845238095238094, 0.11785714285714244, 0.053571428571428381, 0.070238095238095877, 0.35357142857142998, 0.11785714285714244]\n",
        "      Node(val=1.0) [1, 2, 3, 4, 5, 6, 7, 8] [0, 0, 0, 0, 0.0, 0, 0.0, 0] ||\n",
        "    Node(val=2.0) [1, 3, 5, 7] [1.3821428571428576, 0.71547619047619104, 1.7464285714285732, 0.93214285714285516] ||\n",
        "  Node(val=2.0) [1, 3, 5, 7] [3.6178571428571424, 0.95119047619047459, 1.2535714285714281, 1.2107142857142867]\n",
        "    Node(val=1.0) [1, 2, 3, 4, 5, 6, 7, 8] [0, 0, 0, 0, 0.0, 0, 0.0, 0] ||\n",
        "Node(val=2.0) [1, 3, 5, 7] [2.0, 0.66666666666666652, 1.1999999999999997, 0.85714285714285676]\n",
        "  Node(val=1.0) [1, 2, 3, 4, 5, 6, 7, 8] [0.40357142857142891, 0.40357142857142891, 0.2845238095238094, 0.11785714285714244, 0.053571428571428381, 0.070238095238095877, 0.35357142857142998, 0.11785714285714244]\n",
        "    Node(val=1.0) [1, 2, 3, 4, 5, 6, 7, 8] [0, 0, 0, 0, 0.0, 0, 0.0, 0] ||\n",
        "  Node(val=2.0) [1, 3, 5, 7] [1.3821428571428576, 0.71547619047619104, 1.7464285714285732, 0.93214285714285516] ||\n",
        "Node(val=4.0) [1, 3, 5, 7] [10.617857142857144, 3.2630952380952372, 5.4535714285714292, 3.5035714285714268] ||\n"
       ]
      }
     ],
     "prompt_number": 4
    },
    {
     "cell_type": "code",
     "collapsed": false,
     "input": [
      "# possible measure divisions\n",
      "[n.measure() for n in tree.termini()]"
     ],
     "language": "python",
     "metadata": {},
     "outputs": [
      {
       "metadata": {},
       "output_type": "pyout",
       "prompt_number": 5,
       "text": [
        "[[1.0, 1.0, 1.0, 1.0],\n",
        " [1.0, 1.0, 2.0],\n",
        " [1.0, 2.0, 1.0],\n",
        " [2.0, 1.0, 1.0],\n",
        " [2.0, 2.0],\n",
        " [4.0]]"
       ]
      }
     ],
     "prompt_number": 5
    },
    {
     "cell_type": "code",
     "collapsed": false,
     "input": [
      "# show optimal bouquet for each terminus\n",
      "for n in tree.termini():\n",
      "    print n.bouquet_error(),\n",
      "    print n.bouquet()\n",
      "    \n",
      "\"\"\"what are we seeing here? not all possible. is it picking best? or just end of the list?\"\"\""
     ],
     "language": "python",
     "metadata": {},
     "outputs": [
      {
       "output_type": "stream",
       "stream": "stdout",
       "text": [
        "0.0535714285714 [Flower(val=1), Flower(val=1), Flower(val=5), Flower(val=1)]\n",
        "0.715476190476 [Flower(val=1), Flower(val=1), Flower(val=3)]\n",
        "0.95119047619 [Flower(val=1), Flower(val=3), Flower(val=1)]\n",
        "0.720238095238 [Flower(val=3), Flower(val=5), Flower(val=1)]\n",
        "1.38214285714 [Flower(val=3), Flower(val=3)]\n",
        "3.2630952381 [Flower(val=3)]\n"
       ]
      },
      {
       "metadata": {},
       "output_type": "pyout",
       "prompt_number": 6,
       "text": [
        "'what are we seeing here? not all possible. is it picking best? or just end of the list?'"
       ]
      }
     ],
     "prompt_number": 6
    },
    {
     "cell_type": "code",
     "collapsed": false,
     "input": [
      "# optimal solution\n",
      "error, node = tree.optimal_bouquet()\n",
      "print node.measure()\n",
      "print node.bouquet()"
     ],
     "language": "python",
     "metadata": {},
     "outputs": [
      {
       "output_type": "stream",
       "stream": "stdout",
       "text": [
        "[1.0, 1.0, 1.0, 1.0]\n",
        "[Flower(val=1), Flower(val=1), Flower(val=5), Flower(val=1)]\n"
       ]
      }
     ],
     "prompt_number": 7
    },
    {
     "cell_type": "code",
     "collapsed": false,
     "input": [
      "map(lambda x: x*60/60.0, node.to_path().integrate())"
     ],
     "language": "python",
     "metadata": {},
     "outputs": [
      {
       "metadata": {},
       "output_type": "pyout",
       "prompt_number": 8,
       "text": [
        "[0.0,\n",
        " 1.0,\n",
        " 2.0,\n",
        " 2.2,\n",
        " 2.4000000000000004,\n",
        " 2.6000000000000005,\n",
        " 2.800000000000001,\n",
        " 3.000000000000001,\n",
        " 4.000000000000001]"
       ]
      }
     ],
     "prompt_number": 8
    },
    {
     "cell_type": "code",
     "collapsed": false,
     "input": [
      "mynode = tree.termini()[0].bouquet()"
     ],
     "language": "python",
     "metadata": {},
     "outputs": [
      {
       "metadata": {},
       "output_type": "pyout",
       "prompt_number": 30,
       "text": [
        "[Flower(val=1), Flower(val=1), Flower(val=1), Flower(val=1)]"
       ]
      }
     ],
     "prompt_number": 30
    },
    {
     "cell_type": "code",
     "collapsed": false,
     "input": [
      "all_errors = [(n.bouquet_error(), n) for n in tree.termini()]"
     ],
     "language": "python",
     "metadata": {},
     "outputs": [],
     "prompt_number": 32
    },
    {
     "cell_type": "code",
     "collapsed": false,
     "input": [
      "all_errors"
     ],
     "language": "python",
     "metadata": {},
     "outputs": [
      {
       "metadata": {},
       "output_type": "pyout",
       "prompt_number": 33,
       "text": [
        "[(0.0, Node(val=1.0)),\n",
        " (0.28571428571428559, Node(val=2.0)),\n",
        " (0.0, Node(val=1.0)),\n",
        " (0.28571428571428559, Node(val=1.0)),\n",
        " (0.57142857142857117, Node(val=2.0)),\n",
        " (0.57142857142857206, Node(val=4.0))]"
       ]
      }
     ],
     "prompt_number": 33
    },
    {
     "cell_type": "code",
     "collapsed": false,
     "input": [
      "a = 6"
     ],
     "language": "python",
     "metadata": {},
     "outputs": [],
     "prompt_number": 21
    },
    {
     "cell_type": "code",
     "collapsed": false,
     "input": [
      "a *= 2"
     ],
     "language": "python",
     "metadata": {},
     "outputs": [],
     "prompt_number": 22
    },
    {
     "cell_type": "code",
     "collapsed": false,
     "input": [
      "a"
     ],
     "language": "python",
     "metadata": {},
     "outputs": [
      {
       "metadata": {},
       "output_type": "pyout",
       "prompt_number": 23,
       "text": [
        "12"
       ]
      }
     ],
     "prompt_number": 23
    },
    {
     "cell_type": "code",
     "collapsed": false,
     "input": [],
     "language": "python",
     "metadata": {},
     "outputs": []
    }
   ],
   "metadata": {}
  }
 ]
}